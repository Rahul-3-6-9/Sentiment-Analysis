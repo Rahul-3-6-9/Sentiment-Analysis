{
 "metadata": {
  "kernelspec": {
   "language": "python",
   "display_name": "Python 3",
   "name": "python3"
  },
  "language_info": {
   "pygments_lexer": "ipython3",
   "nbconvert_exporter": "python",
   "version": "3.6.4",
   "file_extension": ".py",
   "codemirror_mode": {
    "name": "ipython",
    "version": 3
   },
   "name": "python",
   "mimetype": "text/x-python"
  },
  "kaggle": {
   "accelerator": "none",
   "dataSources": [
    {
     "sourceId": 2157,
     "sourceType": "datasetVersion",
     "datasetId": 18
    }
   ],
   "dockerImageVersionId": 30184,
   "isInternetEnabled": false,
   "language": "python",
   "sourceType": "notebook",
   "isGpuEnabled": false
  },
  "colab": {
   "provenance": []
  }
 },
 "nbformat_minor": 0,
 "nbformat": 4,
 "cells": [
  {
   "source": [
    "import kagglehub\n",
    "snap_amazon_fine_food_reviews_path = kagglehub.dataset_download('snap/amazon-fine-food-reviews')\n",
    "\n",
    "print('Data source import complete.')\n"
   ],
   "metadata": {
    "id": "j_Ra5yStrUmq",
    "colab": {
     "base_uri": "https://localhost:8080/"
    },
    "outputId": "c9995201-72a2-4a43-a16a-0cdf8101208b"
   },
   "cell_type": "code",
   "outputs": [],
   "execution_count": null
  },
  {
   "cell_type": "markdown",
   "source": [
    "In this notebook we will be doing some sentiment analysis in python using two different techniques:\n",
    "1. VADER (Valence Aware Dictionary and sEntiment Reasoner) - Bag of words approach\n",
    "2. Roberta Pretrained Model from HuggingFace\n",
    "3. Huggingface Pipeline"
   ],
   "metadata": {
    "_uuid": "8f2839f25d086af736a60e9eeb907d3b93b6e0e5",
    "_cell_guid": "b1076dfc-b9ad-4769-8c92-a6c4dae69d19",
    "id": "U-BcTaD1rUmu"
   }
  },
  {
   "cell_type": "markdown",
   "source": [
    "# Step 0. Read in Data and NLTK Basics"
   ],
   "metadata": {
    "id": "luf4R_xprUmw"
   }
  },
  {
   "cell_type": "code",
   "source": [
    "import pandas as pd\n",
    "import numpy as np\n",
    "import matplotlib.pyplot as plt\n",
    "import seaborn as sns\n",
    "\n",
    "plt.style.use('ggplot')\n",
    "\n",
    "import nltk\n",
    "nltk.download('vader_lexicon')\n",
    "nltk.download('punkt_tab')\n",
    "nltk.download('averaged_perceptron_tagger_eng')\n",
    "nltk.download('maxent_ne_chunker_tab')\n"
   ],
   "metadata": {
    "execution": {
     "iopub.status.busy": "2022-05-04T19:39:21.715793Z",
     "iopub.execute_input": "2022-05-04T19:39:21.716451Z",
     "iopub.status.idle": "2022-05-04T19:39:23.804667Z",
     "shell.execute_reply.started": "2022-05-04T19:39:21.716291Z",
     "shell.execute_reply": "2022-05-04T19:39:23.803713Z"
    },
    "trusted": true,
    "id": "HDaDF7UdrUmx",
    "colab": {
     "base_uri": "https://localhost:8080/"
    },
    "outputId": "662d69af-edac-4687-8016-5db872ddc0b1"
   },
   "outputs": [],
   "execution_count": null
  },
  {
   "cell_type": "code",
   "source": [
    "# Read in data\n",
    "df = pd.read_csv('../kaggle/input/amazon-fine-food-reviews/Reviews.csv')\n",
    "print(df.shape)\n",
    "df = df.head(500)\n",
    "print(df.shape)"
   ],
   "metadata": {
    "execution": {
     "iopub.status.busy": "2022-05-04T19:40:57.583163Z",
     "iopub.execute_input": "2022-05-04T19:40:57.583681Z",
     "iopub.status.idle": "2022-05-04T19:41:02.153565Z",
     "shell.execute_reply.started": "2022-05-04T19:40:57.583629Z",
     "shell.execute_reply": "2022-05-04T19:41:02.152345Z"
    },
    "trusted": true,
    "id": "Caj8Evz4rUmx",
    "colab": {
     "base_uri": "https://localhost:8080/"
    },
    "outputId": "b6e10439-5fe6-4515-915b-de3674120e28"
   },
   "outputs": [],
   "execution_count": null
  },
  {
   "cell_type": "code",
   "source": [
    "df.head()"
   ],
   "metadata": {
    "execution": {
     "iopub.status.busy": "2022-05-04T19:41:11.259303Z",
     "iopub.execute_input": "2022-05-04T19:41:11.259584Z",
     "iopub.status.idle": "2022-05-04T19:41:11.274472Z",
     "shell.execute_reply.started": "2022-05-04T19:41:11.259556Z",
     "shell.execute_reply": "2022-05-04T19:41:11.27385Z"
    },
    "trusted": true,
    "id": "x0igQyBTrUmy",
    "colab": {
     "base_uri": "https://localhost:8080/",
     "height": 588
    },
    "outputId": "8f25cd52-74fb-4d24-c5cb-26dfa07cbab9"
   },
   "outputs": [],
   "execution_count": null
  },
  {
   "cell_type": "markdown",
   "source": [
    "## Quick EDA"
   ],
   "metadata": {
    "id": "VeiPcSIRrUmy"
   }
  },
  {
   "cell_type": "code",
   "source": [
    "ax = df['Score'].value_counts().sort_index() \\\n",
    "    .plot(kind='bar',\n",
    "          title='Count of Reviews by Stars',\n",
    "          figsize=(10, 5))\n",
    "ax.set_xlabel('Review Stars')\n",
    "plt.show()"
   ],
   "metadata": {
    "execution": {
     "iopub.status.busy": "2022-05-04T19:42:20.960296Z",
     "iopub.execute_input": "2022-05-04T19:42:20.960612Z",
     "iopub.status.idle": "2022-05-04T19:42:21.160845Z",
     "shell.execute_reply.started": "2022-05-04T19:42:20.960582Z",
     "shell.execute_reply": "2022-05-04T19:42:21.159781Z"
    },
    "trusted": true,
    "id": "xdWGtSwIrUmz",
    "colab": {
     "base_uri": "https://localhost:8080/",
     "height": 487
    },
    "outputId": "d3cc1eb3-63a1-48aa-d912-d4185dbc9b5f"
   },
   "outputs": [],
   "execution_count": null
  },
  {
   "cell_type": "markdown",
   "source": [
    "## Basic NLTK"
   ],
   "metadata": {
    "id": "wyK1sdjarUmz"
   }
  },
  {
   "cell_type": "code",
   "source": [
    "example = df['Text'][50]\n",
    "print(example)"
   ],
   "metadata": {
    "execution": {
     "iopub.status.busy": "2022-05-04T19:43:03.80111Z",
     "iopub.execute_input": "2022-05-04T19:43:03.801913Z",
     "iopub.status.idle": "2022-05-04T19:43:03.807131Z",
     "shell.execute_reply.started": "2022-05-04T19:43:03.801876Z",
     "shell.execute_reply": "2022-05-04T19:43:03.80649Z"
    },
    "trusted": true,
    "id": "V3PWJ9bnrUm0",
    "colab": {
     "base_uri": "https://localhost:8080/"
    },
    "outputId": "753e5490-9f75-40fc-8b37-ba733299afa1"
   },
   "outputs": [],
   "execution_count": null
  },
  {
   "cell_type": "code",
   "source": [
    "tokens = nltk.word_tokenize(example)\n",
    "tokens[:10]"
   ],
   "metadata": {
    "execution": {
     "iopub.status.busy": "2022-05-04T19:44:19.0761Z",
     "iopub.execute_input": "2022-05-04T19:44:19.076415Z",
     "iopub.status.idle": "2022-05-04T19:44:19.083725Z",
     "shell.execute_reply.started": "2022-05-04T19:44:19.076369Z",
     "shell.execute_reply": "2022-05-04T19:44:19.082703Z"
    },
    "trusted": true,
    "id": "rWZ9DkebrUm0",
    "colab": {
     "base_uri": "https://localhost:8080/"
    },
    "outputId": "8acf8255-dffa-40cf-bf9e-fcc0b0e0e2ed"
   },
   "outputs": [],
   "execution_count": null
  },
  {
   "cell_type": "code",
   "source": [
    "tagged = nltk.pos_tag(tokens) # pos_tag --> parts of speech tagging like delimiters, coordinated conjunctions, etc.\n",
    "tagged[:10]"
   ],
   "metadata": {
    "execution": {
     "iopub.status.busy": "2022-05-04T19:45:28.695062Z",
     "iopub.execute_input": "2022-05-04T19:45:28.695458Z",
     "iopub.status.idle": "2022-05-04T19:45:28.704207Z",
     "shell.execute_reply.started": "2022-05-04T19:45:28.695397Z",
     "shell.execute_reply": "2022-05-04T19:45:28.703294Z"
    },
    "trusted": true,
    "id": "0Vk-c8JOrUm1",
    "colab": {
     "base_uri": "https://localhost:8080/"
    },
    "outputId": "36c3d948-6507-4d74-a2fd-731b92c781b9"
   },
   "outputs": [],
   "execution_count": null
  },
  {
   "cell_type": "code",
   "source": [
    "entities = nltk.chunk.ne_chunk(tagged) # It basically chunks or groups the POS and the texts into sentences.\n",
    "entities.pprint()"
   ],
   "metadata": {
    "execution": {
     "iopub.status.busy": "2022-05-04T19:46:29.292885Z",
     "iopub.execute_input": "2022-05-04T19:46:29.293174Z",
     "iopub.status.idle": "2022-05-04T19:46:29.308244Z",
     "shell.execute_reply.started": "2022-05-04T19:46:29.293142Z",
     "shell.execute_reply": "2022-05-04T19:46:29.307274Z"
    },
    "trusted": true,
    "id": "3LPsN7jerUm1",
    "colab": {
     "base_uri": "https://localhost:8080/"
    },
    "outputId": "bf1b8650-c06d-49d9-dc8c-8c2cb06566ba"
   },
   "outputs": [],
   "execution_count": null
  },
  {
   "cell_type": "markdown",
   "source": [
    "# Step 1. VADER Seniment Scoring\n",
    "\n",
    "We will use NLTK's `SentimentIntensityAnalyzer` to get the negative/neutral/positive scores of the text.\n",
    "\n",
    "- This uses a \"bag of words\" approach:\n",
    "    1. Stop words are removed\n",
    "    2. each word is scored and combined to a total score.\n",
    "\n",
    "- This doesn't consider the relationship between the words. It just checks up the words individually and rates and combines them."
   ],
   "metadata": {
    "id": "T99goYomrUm2"
   }
  },
  {
   "cell_type": "code",
   "source": [
    "from nltk.sentiment import SentimentIntensityAnalyzer\n",
    "from tqdm.notebook import tqdm\n",
    "\n",
    "sia = SentimentIntensityAnalyzer()"
   ],
   "metadata": {
    "execution": {
     "iopub.status.busy": "2022-05-04T19:49:00.871775Z",
     "iopub.execute_input": "2022-05-04T19:49:00.872374Z",
     "iopub.status.idle": "2022-05-04T19:49:00.897436Z",
     "shell.execute_reply.started": "2022-05-04T19:49:00.872332Z",
     "shell.execute_reply": "2022-05-04T19:49:00.896255Z"
    },
    "trusted": true,
    "id": "V-6AukBcrUm2"
   },
   "outputs": [],
   "execution_count": null
  },
  {
   "cell_type": "code",
   "source": [
    "sia.polarity_scores('I am so happy!')"
   ],
   "metadata": {
    "execution": {
     "iopub.status.busy": "2022-05-04T19:49:23.162587Z",
     "iopub.execute_input": "2022-05-04T19:49:23.163454Z",
     "iopub.status.idle": "2022-05-04T19:49:23.169341Z",
     "shell.execute_reply.started": "2022-05-04T19:49:23.163405Z",
     "shell.execute_reply": "2022-05-04T19:49:23.168416Z"
    },
    "trusted": true,
    "id": "Pb8DLpA3rUm3",
    "colab": {
     "base_uri": "https://localhost:8080/"
    },
    "outputId": "270a1a51-2511-475a-eee4-bb51382fa4d5"
   },
   "outputs": [],
   "execution_count": null
  },
  {
   "cell_type": "code",
   "source": [
    "sia.polarity_scores('This is the worst thing ever.')"
   ],
   "metadata": {
    "execution": {
     "iopub.status.busy": "2022-05-04T19:50:17.483709Z",
     "iopub.execute_input": "2022-05-04T19:50:17.484008Z",
     "iopub.status.idle": "2022-05-04T19:50:17.490483Z",
     "shell.execute_reply.started": "2022-05-04T19:50:17.483975Z",
     "shell.execute_reply": "2022-05-04T19:50:17.489645Z"
    },
    "trusted": true,
    "id": "5ShHriG4rUm3",
    "colab": {
     "base_uri": "https://localhost:8080/"
    },
    "outputId": "d7d50c0d-fb69-486c-9dd2-c7c4a8175e87"
   },
   "outputs": [],
   "execution_count": null
  },
  {
   "cell_type": "code",
   "source": [
    "sia.polarity_scores(example)"
   ],
   "metadata": {
    "execution": {
     "iopub.status.busy": "2022-05-04T19:50:56.001818Z",
     "iopub.execute_input": "2022-05-04T19:50:56.002141Z",
     "iopub.status.idle": "2022-05-04T19:50:56.008847Z",
     "shell.execute_reply.started": "2022-05-04T19:50:56.0021Z",
     "shell.execute_reply": "2022-05-04T19:50:56.00804Z"
    },
    "trusted": true,
    "id": "uTM4W91jrUm3",
    "colab": {
     "base_uri": "https://localhost:8080/"
    },
    "outputId": "86bb3ed5-b7d6-4d24-e89b-26c47057d864"
   },
   "outputs": [],
   "execution_count": null
  },
  {
   "cell_type": "code",
   "source": [
    "# Run the polarity score on the entire dataset\n",
    "res = {}\n",
    "for i, row in tqdm(df.iterrows(), total=len(df)):\n",
    "    text = row['Text']\n",
    "    myid = row['Id']\n",
    "    res[myid] = sia.polarity_scores(text)"
   ],
   "metadata": {
    "execution": {
     "iopub.status.busy": "2022-05-04T19:52:58.893245Z",
     "iopub.execute_input": "2022-05-04T19:52:58.893588Z",
     "iopub.status.idle": "2022-05-04T19:52:59.49514Z",
     "shell.execute_reply.started": "2022-05-04T19:52:58.893552Z",
     "shell.execute_reply": "2022-05-04T19:52:59.494275Z"
    },
    "trusted": true,
    "id": "EtZf_b70rUm3",
    "colab": {
     "base_uri": "https://localhost:8080/",
     "height": 49,
     "referenced_widgets": [
      "365f3905dc9a4c4296554beb097ed582",
      "6ba69cb6e9df4ccab7ef2fea72d2baac",
      "64316a1598f54481a5b5b369bf7e8a55",
      "fde7c1612180449fbd7f9909afcd4d3e",
      "45155afeca054350aced8fcb4daa0153",
      "2906f1ac55104cf68b2abc33d3395b2c",
      "c287a0e0165448c2a3a3deeb42b7cc4e",
      "7d4f8170dd1b4f8c9d1b7df80394f5d8",
      "4a7a6b5a062247ef8fc6d76c4934e48b",
      "ca7c450266fe45329abf9af67450bd8b",
      "2ee8d38e6e684fbaabec873a8f44d7d1"
     ]
    },
    "outputId": "243fac97-b879-4c7d-bab6-af9a34bbb98e"
   },
   "outputs": [],
   "execution_count": null
  },
  {
   "cell_type": "code",
   "source": [
    "vaders = pd.DataFrame(res).T\n",
    "vaders = vaders.reset_index().rename(columns={'index': 'Id'})\n",
    "vaders = vaders.merge(df, how='left')"
   ],
   "metadata": {
    "execution": {
     "iopub.status.busy": "2022-05-04T19:54:30.924791Z",
     "iopub.execute_input": "2022-05-04T19:54:30.925103Z",
     "iopub.status.idle": "2022-05-04T19:54:30.966166Z",
     "shell.execute_reply.started": "2022-05-04T19:54:30.925073Z",
     "shell.execute_reply": "2022-05-04T19:54:30.965461Z"
    },
    "trusted": true,
    "id": "QAthJdyCrUm3"
   },
   "outputs": [],
   "execution_count": null
  },
  {
   "cell_type": "code",
   "source": [
    "# Now we have sentiment score and metadata\n",
    "vaders.head()"
   ],
   "metadata": {
    "execution": {
     "iopub.status.busy": "2022-05-04T19:54:54.822445Z",
     "iopub.execute_input": "2022-05-04T19:54:54.822947Z",
     "iopub.status.idle": "2022-05-04T19:54:54.841701Z",
     "shell.execute_reply.started": "2022-05-04T19:54:54.822898Z",
     "shell.execute_reply": "2022-05-04T19:54:54.840666Z"
    },
    "trusted": true,
    "id": "a-ZG5GePrUm4",
    "colab": {
     "base_uri": "https://localhost:8080/",
     "height": 642
    },
    "outputId": "82e0f3d2-ac3b-49b6-bd46-d084947af2eb"
   },
   "outputs": [],
   "execution_count": null
  },
  {
   "cell_type": "markdown",
   "source": [
    "## Plot VADER results"
   ],
   "metadata": {
    "id": "zam0kiGIrUm4"
   }
  },
  {
   "cell_type": "code",
   "source": [
    "ax = sns.barplot(data=vaders, x='Score', y='compound')\n",
    "ax.set_title('Compund Score by Amazon Star Review')\n",
    "plt.show()"
   ],
   "metadata": {
    "execution": {
     "iopub.status.busy": "2022-05-04T19:56:43.93162Z",
     "iopub.execute_input": "2022-05-04T19:56:43.932173Z",
     "iopub.status.idle": "2022-05-04T19:56:44.304355Z",
     "shell.execute_reply.started": "2022-05-04T19:56:43.932133Z",
     "shell.execute_reply": "2022-05-04T19:56:44.303225Z"
    },
    "trusted": true,
    "id": "Hksz9RA8rUm4",
    "colab": {
     "base_uri": "https://localhost:8080/",
     "height": 477
    },
    "outputId": "7bc018cc-612b-4ff6-d906-2217d6b4ac69"
   },
   "outputs": [],
   "execution_count": null
  },
  {
   "cell_type": "code",
   "source": [
    "fig, axs = plt.subplots(1, 3, figsize=(12, 3))\n",
    "sns.barplot(data=vaders, x='Score', y='pos', ax=axs[0])\n",
    "sns.barplot(data=vaders, x='Score', y='neu', ax=axs[1])\n",
    "sns.barplot(data=vaders, x='Score', y='neg', ax=axs[2])\n",
    "axs[0].set_title('Positive')\n",
    "axs[1].set_title('Neutral')\n",
    "axs[2].set_title('Negative')\n",
    "plt.tight_layout()\n",
    "plt.show()"
   ],
   "metadata": {
    "execution": {
     "iopub.status.busy": "2022-05-04T19:59:44.605431Z",
     "iopub.execute_input": "2022-05-04T19:59:44.605727Z",
     "iopub.status.idle": "2022-05-04T19:59:45.475907Z",
     "shell.execute_reply.started": "2022-05-04T19:59:44.605697Z",
     "shell.execute_reply": "2022-05-04T19:59:45.475026Z"
    },
    "trusted": true,
    "id": "zsuBIP9lrUm4",
    "colab": {
     "base_uri": "https://localhost:8080/",
     "height": 286
    },
    "outputId": "d0a2b466-9289-4fab-f64e-9adda152ec86"
   },
   "outputs": [],
   "execution_count": null
  },
  {
   "cell_type": "markdown",
   "source": [
    "# Step 3. Roberta Pretrained Model\n",
    "\n",
    "- Use a model trained of a large corpus of data.\n",
    "- Transformer model accounts for the words but also the context related to other words."
   ],
   "metadata": {
    "id": "DPfuRnDIrUm4"
   }
  },
  {
   "cell_type": "code",
   "source": [
    "from transformers import AutoTokenizer\n",
    "from transformers import AutoModelForSequenceClassification\n",
    "from scipy.special import softmax"
   ],
   "metadata": {
    "execution": {
     "iopub.status.busy": "2022-05-04T20:02:04.543909Z",
     "iopub.execute_input": "2022-05-04T20:02:04.544844Z",
     "iopub.status.idle": "2022-05-04T20:02:04.549708Z",
     "shell.execute_reply.started": "2022-05-04T20:02:04.544786Z",
     "shell.execute_reply": "2022-05-04T20:02:04.54872Z"
    },
    "trusted": true,
    "id": "bXIKjBmrrUm4"
   },
   "outputs": [],
   "execution_count": null
  },
  {
   "cell_type": "code",
   "source": [
    "MODEL = f\"cardiffnlp/twitter-roberta-base-sentiment\"\n",
    "tokenizer = AutoTokenizer.from_pretrained(MODEL)\n",
    "model = AutoModelForSequenceClassification.from_pretrained(MODEL)"
   ],
   "metadata": {
    "execution": {
     "iopub.status.busy": "2022-05-04T20:02:34.966403Z",
     "iopub.execute_input": "2022-05-04T20:02:34.967204Z",
     "iopub.status.idle": "2022-05-04T20:03:04.534818Z",
     "shell.execute_reply.started": "2022-05-04T20:02:34.967162Z",
     "shell.execute_reply": "2022-05-04T20:03:04.533813Z"
    },
    "trusted": true,
    "id": "rZJPx0B8rUm5",
    "colab": {
     "base_uri": "https://localhost:8080/",
     "height": 338,
     "referenced_widgets": [
      "5e8a758504bb48068a03c578fa803cae",
      "0bcaac90c50f47b784db5c0896b63c8f",
      "c0eed92e5bb34224b8afe9096955d617",
      "0411396128fc4a098c0c8456d2c74734",
      "ad4230d8c0884c5e8c2ac95d56cd8e26",
      "a846b73b25f64d12b2ee736f98fdd665",
      "249d300e6a214cd28bda3e0340ff33e7",
      "de3088c7ff104c85843bea87eff671bc",
      "f2c08d7ff6444381931aa00cc41db9dd",
      "02c25280250c4dde9e0c8a347d9c374d",
      "97035fa2556f4abcbd26d063c50666a4",
      "142e6d190292482b923c674ba75e3892",
      "79e72020ec4148ffaa45b9fbf39babaa",
      "1075ade85d2c4e1097e80d0e1465baec",
      "6556e48ea7f84c199d8b76f5bfbaa14f",
      "e67b37e275b044e3bd83403b41a73f86",
      "e9c003f4a1824c10aafb87eaa0961d52",
      "8c70d6c2678e4730a50f3dc0a64e5008",
      "b8dff85102e84eedb46bbc52cffbafa8",
      "286653d2dc374adfbe2b3d1bbf97b314",
      "fe197c04ce7f43cbb35ef95aa9fd459a",
      "afe999aaf65a441a9c1fe61a07643a39",
      "5edda00afbdc4683a8dd9de3cde1d2d3",
      "3ff896599cc24fb09e53c04624e9e8e4",
      "f6c2c170ad8348eda3629a67ca30265a",
      "f787e403682c4a29bc50972c29c2daf4",
      "9062729b845d4a43bf138d1eb48c940e",
      "9014968a13944497aac146558bcece51",
      "885dad5a230c4a119a9674a815b608cb",
      "2c04919efd834f58b2747e3a8a9221d0",
      "6351295058e848ec994dbae6ba5bc74a",
      "a559be7b31d340c1b3e9c7203e528507",
      "f5b4dc05af19496db7e74993a38062a9",
      "bc49c647e824437ebd2e7b02753d21d4",
      "ec4dcbe6b2844bd5bf9376fcda4c1aab",
      "6af9b6de29204087ab13e5ce1f828b1e",
      "b8cf1221c7d54f1ba20ae02d08253403",
      "c15412c251a44d9780ba55bbfb2cc28a",
      "36c3847e40074907a2dfa3c6fd0176a2",
      "752e2ecf92e14262b2038cd679b1a3cd",
      "dbdaad537f8f486c88e7ef7f8492ab36",
      "6c0e2d31c156453aba796f940d8fc5e3",
      "47f06b9e2de84ab4ba5d4dea99617363",
      "4679ff9a3bfb4fdb8260d6ea140f81b9",
      "6d53afdbb61740d48066580a5a07151c",
      "b38c66c41f75499e8cc43953ca8ccae0",
      "c2b0f26693ba40618a9b01a426b5ea81",
      "de26d075332e4f54a1db683071bac57d",
      "d5926c866d5344edafee152daa019699",
      "7e0cad0c2bdf4fca96ed44582894544c",
      "95f8be9dfddd468db4ff876ab53c5cad",
      "f28518447b6546e8b0ac44a34a84dfdd",
      "c8d35cc721b64e528e96bf5f99c6cbd3",
      "9af8934263ab4a399f269c0cff0ed1e4",
      "390575de55264e888f57ebcc076256b0",
      "718b90dfbb6241b1b0a785f92e6b76bb",
      "86f9f94677194c63bcb65c6e1e609bea",
      "b313c4012c434e64bc5a0f82f9ae9780",
      "73050c4e390b41ce878373b418bdb1c9",
      "4e5ebfcd4ff7480b8e054aa08b04739e",
      "29378fa6dc524cc8910f7a8294affc87",
      "d87b8a22a8df48f4a64eebb32e9918c5",
      "54150b9fac7a469bb72f980a17195c2b",
      "53bb51b5b14b491687f2ec95bc3f03be",
      "07bf8d908bd3444798d4634c4bb6d534",
      "6c41ad9b78c347c7a4965ffae94d9f72"
     ]
    },
    "outputId": "a66e8ecc-92f6-49c5-d682-28a52e11f4bb"
   },
   "outputs": [],
   "execution_count": null
  },
  {
   "cell_type": "code",
   "source": [
    "# VADER results on example\n",
    "print(example)\n",
    "sia.polarity_scores(example)"
   ],
   "metadata": {
    "execution": {
     "iopub.status.busy": "2022-05-04T20:03:28.569359Z",
     "iopub.execute_input": "2022-05-04T20:03:28.570335Z",
     "iopub.status.idle": "2022-05-04T20:03:28.581962Z",
     "shell.execute_reply.started": "2022-05-04T20:03:28.57029Z",
     "shell.execute_reply": "2022-05-04T20:03:28.58106Z"
    },
    "trusted": true,
    "id": "02nX_qK7rUm5",
    "colab": {
     "base_uri": "https://localhost:8080/"
    },
    "outputId": "cd5b38a9-1977-47a2-d374-ce2917c92a26"
   },
   "outputs": [],
   "execution_count": null
  },
  {
   "cell_type": "code",
   "source": [
    "# Run for Roberta Model\n",
    "encoded_text = tokenizer(example, return_tensors='pt')\n",
    "output = model(**encoded_text)\n",
    "scores = output[0][0].detach().numpy()\n",
    "scores = softmax(scores)\n",
    "scores_dict = {\n",
    "    'roberta_neg' : scores[0],\n",
    "    'roberta_neu' : scores[1],\n",
    "    'roberta_pos' : scores[2]\n",
    "}\n",
    "print(scores_dict)"
   ],
   "metadata": {
    "execution": {
     "iopub.status.busy": "2022-05-04T20:06:17.758657Z",
     "iopub.execute_input": "2022-05-04T20:06:17.759136Z",
     "iopub.status.idle": "2022-05-04T20:06:17.880012Z",
     "shell.execute_reply.started": "2022-05-04T20:06:17.7591Z",
     "shell.execute_reply": "2022-05-04T20:06:17.879226Z"
    },
    "trusted": true,
    "id": "q1F65uS2rUm5",
    "colab": {
     "base_uri": "https://localhost:8080/"
    },
    "outputId": "0aadc770-65ae-406f-d24c-c5c9ca02589a"
   },
   "outputs": [],
   "execution_count": null
  },
  {
   "cell_type": "code",
   "source": [
    "def polarity_scores_roberta(example):\n",
    "    encoded_text = tokenizer(example, return_tensors='pt')\n",
    "    output = model(**encoded_text)\n",
    "    scores = output[0][0].detach().numpy()\n",
    "    scores = softmax(scores)\n",
    "    scores_dict = {\n",
    "        'roberta_neg' : scores[0],\n",
    "        'roberta_neu' : scores[1],\n",
    "        'roberta_pos' : scores[2]\n",
    "    }\n",
    "    return scores_dict"
   ],
   "metadata": {
    "execution": {
     "iopub.status.busy": "2022-05-04T20:07:13.064444Z",
     "iopub.execute_input": "2022-05-04T20:07:13.065087Z",
     "iopub.status.idle": "2022-05-04T20:07:13.071124Z",
     "shell.execute_reply.started": "2022-05-04T20:07:13.065019Z",
     "shell.execute_reply": "2022-05-04T20:07:13.070421Z"
    },
    "trusted": true,
    "id": "I5_bPtHBrUm5"
   },
   "outputs": [],
   "execution_count": null
  },
  {
   "cell_type": "code",
   "source": [
    "res = {}\n",
    "for i, row in tqdm(df.iterrows(), total=len(df)):\n",
    "    try:\n",
    "        text = row['Text']\n",
    "        myid = row['Id']\n",
    "        vader_result = sia.polarity_scores(text)\n",
    "        vader_result_rename = {}\n",
    "        for key, value in vader_result.items():\n",
    "            vader_result_rename[f\"vader_{key}\"] = value\n",
    "        roberta_result = polarity_scores_roberta(text)\n",
    "        both = {**vader_result_rename, **roberta_result}\n",
    "        res[myid] = both\n",
    "    except RuntimeError:\n",
    "        print(f'Broke for id {myid}')"
   ],
   "metadata": {
    "execution": {
     "iopub.status.busy": "2022-05-04T20:10:38.073568Z",
     "iopub.execute_input": "2022-05-04T20:10:38.073859Z",
     "iopub.status.idle": "2022-05-04T20:12:19.631136Z",
     "shell.execute_reply.started": "2022-05-04T20:10:38.07383Z",
     "shell.execute_reply": "2022-05-04T20:12:19.630135Z"
    },
    "trusted": true,
    "id": "cR98hRPZrUm5",
    "colab": {
     "base_uri": "https://localhost:8080/",
     "height": 85,
     "referenced_widgets": [
      "417f061ebe6d4ba4bd3f6e11dca30102",
      "419fcd46b94d4870bde94c629959741a",
      "459a6df9e4c3438b86c06d6d4f26c474",
      "2daca9f6f0a04f5383738d5ad9d72e5c",
      "25ea998e9fd0451a9f4c7504649287ea",
      "12ff717446d148f68b53788362f0217f",
      "f186f26b2a8a4cc7bc1b90f635498a03",
      "d7af2b22b37842489cce4104738852cc",
      "f268c9e737734f4db71d23b428ffcd25",
      "de27123f218940118b1bbf28ba69bfce",
      "2af09db68838465ebd83851f066c2f8b"
     ]
    },
    "outputId": "27643def-bfbb-4095-f918-0f17dd3af979"
   },
   "outputs": [],
   "execution_count": null
  },
  {
   "cell_type": "code",
   "source": [
    "results_df = pd.DataFrame(res).T\n",
    "results_df = results_df.reset_index().rename(columns={'index': 'Id'})\n",
    "results_df = results_df.merge(df, how='left')"
   ],
   "metadata": {
    "execution": {
     "iopub.status.busy": "2022-05-04T20:13:25.789228Z",
     "iopub.execute_input": "2022-05-04T20:13:25.789608Z",
     "iopub.status.idle": "2022-05-04T20:13:25.830997Z",
     "shell.execute_reply.started": "2022-05-04T20:13:25.789567Z",
     "shell.execute_reply": "2022-05-04T20:13:25.829815Z"
    },
    "trusted": true,
    "id": "LUB8QNEIrUm6"
   },
   "outputs": [],
   "execution_count": null
  },
  {
   "cell_type": "markdown",
   "source": [
    "## Compare Scores between models"
   ],
   "metadata": {
    "execution": {
     "iopub.status.busy": "2022-05-04T20:13:28.535656Z",
     "iopub.execute_input": "2022-05-04T20:13:28.535935Z",
     "iopub.status.idle": "2022-05-04T20:13:28.558465Z",
     "shell.execute_reply.started": "2022-05-04T20:13:28.535906Z",
     "shell.execute_reply": "2022-05-04T20:13:28.55787Z"
    },
    "id": "EnPLlT4SrUm6"
   }
  },
  {
   "cell_type": "code",
   "source": [
    "results_df.columns"
   ],
   "metadata": {
    "execution": {
     "iopub.status.busy": "2022-05-04T20:14:18.110445Z",
     "iopub.execute_input": "2022-05-04T20:14:18.110755Z",
     "iopub.status.idle": "2022-05-04T20:14:18.117026Z",
     "shell.execute_reply.started": "2022-05-04T20:14:18.110719Z",
     "shell.execute_reply": "2022-05-04T20:14:18.116414Z"
    },
    "trusted": true,
    "id": "dwO02hbMrUm6",
    "colab": {
     "base_uri": "https://localhost:8080/"
    },
    "outputId": "c24984ab-a81e-40ee-98f6-a9bc4d7eb4c7"
   },
   "outputs": [],
   "execution_count": null
  },
  {
   "cell_type": "markdown",
   "source": [
    "# Step 3. Combine and compare"
   ],
   "metadata": {
    "id": "QiPy2tFirUm7"
   }
  },
  {
   "cell_type": "code",
   "source": [
    "sns.pairplot(data=results_df,\n",
    "             vars=['vader_neg', 'vader_neu', 'vader_pos',\n",
    "                  'roberta_neg', 'roberta_neu', 'roberta_pos'],\n",
    "            hue='Score',\n",
    "            palette='tab10')\n",
    "plt.show()"
   ],
   "metadata": {
    "execution": {
     "iopub.status.busy": "2022-05-04T20:15:03.033224Z",
     "iopub.execute_input": "2022-05-04T20:15:03.034071Z",
     "iopub.status.idle": "2022-05-04T20:15:15.660691Z",
     "shell.execute_reply.started": "2022-05-04T20:15:03.034018Z",
     "shell.execute_reply": "2022-05-04T20:15:15.659964Z"
    },
    "trusted": true,
    "id": "2t1UNQwIrUm7",
    "colab": {
     "base_uri": "https://localhost:8080/",
     "height": 1000
    },
    "outputId": "483a2772-6d65-421e-9815-527911dcdb0d"
   },
   "outputs": [],
   "execution_count": null
  },
  {
   "cell_type": "markdown",
   "source": [
    "# Step 4: Review Examples:\n",
    "\n",
    "- Positive 1-Star and Negative 5-Star Reviews\n",
    "\n",
    "Lets look at some examples where the model scoring and review score differ the most."
   ],
   "metadata": {
    "id": "bjvFQbparUm7"
   }
  },
  {
   "cell_type": "markdown",
   "source": [
    "- Positive sentiment 1-Star view"
   ],
   "metadata": {
    "id": "HGGcLxM15dFQ"
   }
  },
  {
   "cell_type": "code",
   "source": [
    "results_df.query('Score == 1') \\\n",
    "    .sort_values('roberta_pos', ascending=False)['Text'].values[0]"
   ],
   "metadata": {
    "execution": {
     "iopub.status.busy": "2022-05-04T20:17:40.45463Z",
     "iopub.execute_input": "2022-05-04T20:17:40.454931Z",
     "iopub.status.idle": "2022-05-04T20:17:40.466941Z",
     "shell.execute_reply.started": "2022-05-04T20:17:40.454899Z",
     "shell.execute_reply": "2022-05-04T20:17:40.465905Z"
    },
    "trusted": true,
    "id": "RBhfuWVZrUm7",
    "colab": {
     "base_uri": "https://localhost:8080/",
     "height": 54
    },
    "outputId": "c2f27f28-cc2a-4e65-944d-0d954c134b57"
   },
   "outputs": [],
   "execution_count": null
  },
  {
   "cell_type": "code",
   "source": [
    "results_df.query('Score == 1') \\\n",
    "    .sort_values('vader_pos', ascending=False)['Text'].values[0]"
   ],
   "metadata": {
    "execution": {
     "iopub.status.busy": "2022-05-04T20:18:29.570513Z",
     "iopub.execute_input": "2022-05-04T20:18:29.570823Z",
     "iopub.status.idle": "2022-05-04T20:18:29.581437Z",
     "shell.execute_reply.started": "2022-05-04T20:18:29.57079Z",
     "shell.execute_reply": "2022-05-04T20:18:29.580549Z"
    },
    "trusted": true,
    "id": "fwIoTCbfrUm7",
    "colab": {
     "base_uri": "https://localhost:8080/",
     "height": 36
    },
    "outputId": "47aeea08-c6fe-4b8a-ccdc-f10cd35a9671"
   },
   "outputs": [],
   "execution_count": null
  },
  {
   "cell_type": "markdown",
   "source": [
    "- Negative sentiment 5-Star view"
   ],
   "metadata": {
    "id": "YbDMatiZ5Qw4"
   }
  },
  {
   "cell_type": "code",
   "source": [
    "results_df.query('Score == 5') \\\n",
    "    .sort_values('roberta_neg', ascending=False)['Text'].values[0]"
   ],
   "metadata": {
    "execution": {
     "iopub.status.busy": "2022-05-04T20:19:28.636456Z",
     "iopub.execute_input": "2022-05-04T20:19:28.636791Z",
     "iopub.status.idle": "2022-05-04T20:19:28.649423Z",
     "shell.execute_reply.started": "2022-05-04T20:19:28.63676Z",
     "shell.execute_reply": "2022-05-04T20:19:28.648342Z"
    },
    "trusted": true,
    "id": "yI2BW73frUnA",
    "colab": {
     "base_uri": "https://localhost:8080/",
     "height": 36
    },
    "outputId": "5bb01390-b179-47aa-b074-11b8b823eeb6"
   },
   "outputs": [],
   "execution_count": null
  },
  {
   "cell_type": "code",
   "source": [
    "results_df.query('Score == 5') \\\n",
    "    .sort_values('vader_neg', ascending=False)['Text'].values[0]"
   ],
   "metadata": {
    "execution": {
     "iopub.status.busy": "2022-05-04T20:19:50.668083Z",
     "iopub.execute_input": "2022-05-04T20:19:50.668588Z",
     "iopub.status.idle": "2022-05-04T20:19:50.680922Z",
     "shell.execute_reply.started": "2022-05-04T20:19:50.668533Z",
     "shell.execute_reply": "2022-05-04T20:19:50.679368Z"
    },
    "trusted": true,
    "id": "T84rKlFErUnB",
    "colab": {
     "base_uri": "https://localhost:8080/",
     "height": 36
    },
    "outputId": "d6e0b933-587f-4504-ba2f-cb76956c5162"
   },
   "outputs": [],
   "execution_count": null
  }
 ]
}